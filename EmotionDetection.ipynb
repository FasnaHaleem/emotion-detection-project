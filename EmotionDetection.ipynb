{
 "cells": [
  {
   "cell_type": "code",
   "execution_count": 12,
   "id": "6204ccd1-d84f-44b8-a73d-f86d7177d735",
   "metadata": {},
   "outputs": [],
   "source": [
    "import pandas as pd\n",
    "\n",
    "# Load your dataset (replace with your filename)\n",
    "\n",
    "df = pd.read_csv(\"C:\\\\Users\\\\Aqeela\\\\Documents\\\\EmotionDetection\\\\emotion_data.csv\")\n",
    "\n",
    "\n",
    "\n",
    "df.head()\n",
    "# Melt the DataFrame\n",
    "df_melted = df.melt(var_name='emotion', value_name='message')\n",
    "\n",
    "# Drop empty messages\n",
    "df_melted.dropna(subset=['message'], inplace=True)\n",
    "df_melted.head()\n",
    "df_melted.to_csv(\"student_emotions_cleaned.csv\", index=False)\n",
    "\n"
   ]
  },
  {
   "cell_type": "code",
   "execution_count": 17,
   "id": "a4d69e33",
   "metadata": {},
   "outputs": [
    {
     "name": "stdout",
     "output_type": "stream",
     "text": [
      "          message    emotion\n",
      "0  7/5/2025 23:39  Timestamp\n",
      "1  7/5/2025 23:40  Timestamp\n",
      "2  7/5/2025 23:41  Timestamp\n",
      "3   7/6/2025 0:15  Timestamp\n",
      "4  7/9/2025 20:29  Timestamp\n"
     ]
    }
   ],
   "source": [
    "import pandas as pd\n",
    "\n",
    "df = pd.read_csv(\"C:\\\\Users\\\\Aqeela\\\\Documents\\\\EmotionDetection\\\\emotion_data.csv\")\n",
    "\n",
    "\n",
    "df_melted = df.melt(var_name='emotion', value_name='message')\n",
    "\n",
    "df_melted.dropna(subset=['message'], inplace=True)\n",
    "\n",
    "\n",
    "df_melted = df_melted[['message', 'emotion']]\n",
    "\n",
    "df_melted.to_csv(\"student_emotions_cleaned.csv\", index=False)\n",
    "\n",
    "print(df_melted.head())\n"
   ]
  },
  {
   "cell_type": "code",
   "execution_count": null,
   "id": "88844e11",
   "metadata": {},
   "outputs": [],
   "source": []
  }
 ],
 "metadata": {
  "kernelspec": {
   "display_name": "Python 3 (ipykernel)",
   "language": "python",
   "name": "python3"
  },
  "language_info": {
   "codemirror_mode": {
    "name": "ipython",
    "version": 3
   },
   "file_extension": ".py",
   "mimetype": "text/x-python",
   "name": "python",
   "nbconvert_exporter": "python",
   "pygments_lexer": "ipython3",
   "version": "3.11.5"
  }
 },
 "nbformat": 4,
 "nbformat_minor": 5
}
