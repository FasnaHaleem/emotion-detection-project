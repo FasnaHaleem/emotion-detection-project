{
 "cells": [
  {
   "cell_type": "code",
   "execution_count": 9,
   "id": "bc9724b5-2d52-4036-95c9-d773c95e73bf",
   "metadata": {},
   "outputs": [],
   "source": [
    "import pandas as pd\n",
    "\n",
    "# Load your dataset (replace with your filename)\n",
    "\n",
    "df = pd.read_csv(\"C:\\\\Users\\\\Shimra\\\\Documents\\\\EmotionDetection\\\\emotion_data.csv.csv\")\n",
    "\n",
    "\n",
    "\n",
    "df.head()\n",
    "# Melt the DataFrame\n",
    "df_melted = df.melt(var_name='emotion', value_name='message')\n",
    "\n",
    "# Drop empty messages\n",
    "df_melted.dropna(subset=['message'], inplace=True)\n",
    "df_melted.head()\n",
    "df_melted.to_csv(\"student_emotions_cleaned.csv\", index=False)\n"
   ]
  },
  {
   "cell_type": "code",
   "execution_count": 16,
   "id": "8bc91a3b-2e6c-4f66-814e-b4b433c438ef",
   "metadata": {},
   "outputs": [
    {
     "name": "stdout",
     "output_type": "stream",
     "text": [
      "             message    emotion\n",
      "0  7/5/2025 23:39:58  Timestamp\n",
      "1  7/5/2025 23:40:01  Timestamp\n",
      "2  7/5/2025 23:41:10  Timestamp\n",
      "3   7/6/2025 0:15:13  Timestamp\n",
      "4  7/9/2025 20:29:22  Timestamp\n"
     ]
    }
   ],
   "source": [
    "import pandas as pd\n",
    "\n",
    "df = pd.read_csv(\"C:\\\\Users\\\\Shimra\\\\Documents\\\\EmotionDetection\\\\emotion_data.csv.csv\")\n",
    "\n",
    "\n",
    "df_melted = df.melt(var_name='emotion', value_name='message')\n",
    "\n",
    "df_melted.dropna(subset=['message'], inplace=True)\n",
    "\n",
    "\n",
    "df_melted = df_melted[['message', 'emotion']]\n",
    "\n",
    "df_melted.to_csv(\"student_emotions_cleaned.csv.csv\", index=False)\n",
    "\n",
    "print(df_melted.head())\n"
   ]
  },
  {
   "cell_type": "code",
   "execution_count": 17,
   "id": "c820ce8a-1b5e-4cbf-8697-82a1d4cef70d",
   "metadata": {},
   "outputs": [
    {
     "name": "stdout",
     "output_type": "stream",
     "text": [
      "Current working directory: C:\\Users\\Shimra\\Documents\\EmotionDetection\n",
      "Filtered rows count: 882\n",
      "Saved file to: C:\\Users\\Shimra\\Documents\\EmotionDetection\\student_emotions_cleaned_no_emoji_short_removed.csv.csv\n",
      "             message    emotion\n",
      "0  7/5/2025 23:39:58  Timestamp\n",
      "1  7/5/2025 23:40:01  Timestamp\n",
      "2  7/5/2025 23:41:10  Timestamp\n",
      "3   7/6/2025 0:15:13  Timestamp\n",
      "4  7/9/2025 20:29:22  Timestamp\n"
     ]
    }
   ],
   "source": [
    "import pandas as pd\n",
    "import re\n",
    "import os\n",
    "\n",
    "# Print the current working directory for reference\n",
    "print(\"Current working directory:\", os.getcwd())\n",
    "\n",
    "# Load the cleaned CSV file\n",
    "input_path = \"C:\\\\Users\\\\Shimra\\\\Documents\\\\EmotionDetection\\\\student_emotions_cleaned.csv.csv\"\n",
    "df_melted = pd.read_csv(input_path)\n",
    "\n",
    "# Function to remove emojis using regex\n",
    "def remove_emojis(text):\n",
    "    emoji_pattern = re.compile(\n",
    "        \"[\" \n",
    "        u\"\\U0001F600-\\U0001F64F\"  # emoticons\n",
    "        u\"\\U0001F300-\\U0001F5FF\"  # symbols & pictographs\n",
    "        u\"\\U0001F680-\\U0001F6FF\"  # transport & map symbols\n",
    "        u\"\\U0001F1E0-\\U0001F1FF\"  # flags\n",
    "        u\"\\U00002700-\\U000027BF\"  # dingbats\n",
    "        u\"\\U000024C2-\\U0001F251\"  # enclosed characters\n",
    "        \"]+\", flags=re.UNICODE\n",
    "    )\n",
    "    return emoji_pattern.sub(r'', text)\n",
    "\n",
    "# Apply emoji removal and strip extra whitespace\n",
    "df_melted['message'] = df_melted['message'].apply(remove_emojis).str.strip()\n",
    "\n",
    "# Remove single-word responses (messages with only one word)\n",
    "df_melted = df_melted[df_melted['message'].str.split().str.len() > 1]\n",
    "\n",
    "# Reset the index after filtering\n",
    "df_melted.reset_index(drop=True, inplace=True)\n",
    "\n",
    "# Set up the output directory and file path\n",
    "output_folder = \"C:\\\\Users\\\\Shimra\\\\Documents\\\\EmotionDetection\"\n",
    "output_file = \"student_emotions_cleaned_no_emoji_short_removed.csv.csv\"\n",
    "output_path = os.path.join(output_folder, output_file)\n",
    "\n",
    "# Create the folder if it doesn't exist\n",
    "os.makedirs(output_folder, exist_ok=True)\n",
    "\n",
    "# Save the cleaned DataFrame to a new CSV\n",
    "df_melted.to_csv(output_path, index=False)\n",
    "\n",
    "# Final confirmation\n",
    "print(\"Filtered rows count:\", df_melted.shape[0])\n",
    "print(\"Saved file to:\", output_path)\n",
    "print(df_melted.head())"
   ]
  },
  {
   "cell_type": "code",
   "execution_count": null,
   "id": "e076965e-6a03-417e-ad03-d1ea396e3379",
   "metadata": {},
   "outputs": [],
   "source": []
  }
 ],
 "metadata": {
  "kernelspec": {
   "display_name": "Python 3 (ipykernel)",
   "language": "python",
   "name": "python3"
  },
  "language_info": {
   "codemirror_mode": {
    "name": "ipython",
    "version": 3
   },
   "file_extension": ".py",
   "mimetype": "text/x-python",
   "name": "python",
   "nbconvert_exporter": "python",
   "pygments_lexer": "ipython3",
   "version": "3.10.18"
  }
 },
 "nbformat": 4,
 "nbformat_minor": 5
}
