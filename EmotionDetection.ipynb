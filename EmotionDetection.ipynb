{
 "cells": [
  {
   "cell_type": "code",
   "execution_count": 13,
   "id": "90189424-89b0-493e-b85f-2c3065bdde2d",
   "metadata": {},
   "outputs": [],
   "source": [
    "import pandas as pd\n",
    "\n",
    "# Load your dataset (replace with your filename)\n",
    "\n",
    "df = pd.read_csv(r\"C:\\Users\\WINDOWS 1O\\Documents\\EmotionDetection\\emotion_data.csv.csv\")\n",
    "\n",
    "\n",
    "\n",
    "\n",
    "df.head()\n",
    "# Melt the DataFrame\n",
    "df_melted = df.melt(var_name='emotion', value_name='message')\n",
    "\n",
    "# Drop empty messages\n",
    "df_melted.dropna(subset=['message'], inplace=True)\n",
    "df_melted.head()\n",
    "df_melted.to_csv(\"student_emotions_cleaned.csv\", index=False)\n",
    "\n"
   ]
  },
  {
   "cell_type": "code",
   "execution_count": 14,
   "id": "debc0776-d670-46f1-93f9-0142c77e92ae",
   "metadata": {},
   "outputs": [
    {
     "name": "stdout",
     "output_type": "stream",
     "text": [
      "             message    emotion\n",
      "0  7/5/2025 23:39:58  Timestamp\n",
      "1  7/5/2025 23:40:01  Timestamp\n",
      "2  7/5/2025 23:41:10  Timestamp\n",
      "3   7/6/2025 0:15:13  Timestamp\n",
      "4  7/9/2025 20:29:22  Timestamp\n"
     ]
    }
   ],
   "source": [
    "import pandas as pd\n",
    "\n",
    "df = pd.read_csv(r\"C:\\Users\\WINDOWS 1O\\Documents\\EmotionDetection\\emotion_data.csv.csv\")\n",
    "\n",
    "\n",
    "df_melted = df.melt(var_name='emotion', value_name='message')\n",
    "\n",
    "df_melted.dropna(subset=['message'], inplace=True)\n",
    "\n",
    "\n",
    "df_melted = df_melted[['message', 'emotion']]\n",
    "\n",
    "df_melted.to_csv(\"student_emotions_cleaned.csv.csv\", index=False)\n",
    "\n",
    "print(df_melted.head())"
   ]
  },
  {
   "cell_type": "code",
   "execution_count": 20,
   "id": "f91f1134-b4ba-4acc-b35b-522c09374872",
   "metadata": {},
   "outputs": [
    {
     "name": "stdout",
     "output_type": "stream",
     "text": [
      "Detected Columns: ['Timestamp', '1. Joy\\n (e.g., Lecturer ended class 30 minutes-early blessing!.)', '2.Sadness  \\n (e.g., Missed the scholarship by just 1 mark.)', '3. Anger  \\n (e.g.,  Lecturer canceled the class last minute again!)', \"4. Fear  \\n (e.g., Viva starts in 5 minutes. I'm shaking.)\", '5. Neutral  \\n (e.g., Had lunch and attended lectures.)']\n",
      "                                             message  \\\n",
      "0  I finally passed the exam I was so stressed about   \n",
      "1  Alhamdulillah! I finally got an A for my proje...   \n",
      "2                          Tomarrow's lecture cancel   \n",
      "3                                    I am so excited   \n",
      "4  I’m so happy today! I passed all my subjects i...   \n",
      "\n",
      "                                             emotion  \n",
      "0  Joy\\n (e.g., Lecturer ended class 30 minutes-e...  \n",
      "1  Joy\\n (e.g., Lecturer ended class 30 minutes-e...  \n",
      "2  Joy\\n (e.g., Lecturer ended class 30 minutes-e...  \n",
      "3  Joy\\n (e.g., Lecturer ended class 30 minutes-e...  \n",
      "4  Joy\\n (e.g., Lecturer ended class 30 minutes-e...  \n"
     ]
    }
   ],
   "source": [
    "import pandas as pd\n",
    "\n",
    "# Load CSV\n",
    "df = pd.read_csv(r\"C:\\Users\\WINDOWS 1O\\Documents\\EmotionDetection\\emotion_data.csv.csv\")\n",
    "\n",
    "# Clean column names\n",
    "df.columns = df.columns.str.strip()\n",
    "\n",
    "# Print actual column names for debugging\n",
    "print(\"Detected Columns:\", df.columns.tolist())\n",
    "\n",
    "# Automatically detect columns that start with a number\n",
    "emotion_columns = [col for col in df.columns if col[:1].isdigit()]\n",
    "\n",
    "# Melt to message/emotion format\n",
    "df_melted = df[emotion_columns].melt(var_name='emotion', value_name='message')\n",
    "\n",
    "# Drop empty\n",
    "df_melted.dropna(subset=['message'], inplace=True)\n",
    "\n",
    "# Clean emotion labels: remove \"1. \", fix spelling\n",
    "df_melted['emotion'] = (\n",
    "    df_melted['emotion']\n",
    "    .str.replace(r'^\\d+\\.\\s*', '', regex=True)\n",
    "    .replace({'Sadnes': 'Sadness'})\n",
    ")\n",
    "\n",
    "# Reorder\n",
    "df_cleaned = df_melted[['message', 'emotion']]\n",
    "df_cleaned.to_csv(\"student_emotions_cleaned.csv\", index=False)\n",
    "\n",
    "print(df_cleaned.head())\n"
   ]
  },
  {
   "cell_type": "code",
   "execution_count": 21,
   "id": "1f21364e-6d7e-434c-97bb-81030c6b132a",
   "metadata": {},
   "outputs": [
    {
     "name": "stdout",
     "output_type": "stream",
     "text": [
      "Detected Columns: ['Timestamp', '1. Joy\\n (e.g., Lecturer ended class 30 minutes-early blessing!.)', '2.Sadness  \\n (e.g., Missed the scholarship by just 1 mark.)', '3. Anger  \\n (e.g.,  Lecturer canceled the class last minute again!)', \"4. Fear  \\n (e.g., Viva starts in 5 minutes. I'm shaking.)\", '5. Neutral  \\n (e.g., Had lunch and attended lectures.)']\n",
      "                                             message  \\\n",
      "0  i finally passed the exam i was so stressed about   \n",
      "1  alhamdulillah! i finally got an a for my proje...   \n",
      "2                          tomarrow's lecture cancel   \n",
      "3                                    i am so excited   \n",
      "4  i’m so happy today! i passed all my subjects i...   \n",
      "\n",
      "                                             emotion  \n",
      "0  joy\\n (e.g., lecturer ended class 30 minutes-e...  \n",
      "1  joy\\n (e.g., lecturer ended class 30 minutes-e...  \n",
      "2  joy\\n (e.g., lecturer ended class 30 minutes-e...  \n",
      "3  joy\\n (e.g., lecturer ended class 30 minutes-e...  \n",
      "4  joy\\n (e.g., lecturer ended class 30 minutes-e...  \n"
     ]
    }
   ],
   "source": [
    "import pandas as pd\n",
    "\n",
    "# Load CSV\n",
    "df = pd.read_csv(r\"C:\\Users\\WINDOWS 1O\\Documents\\EmotionDetection\\emotion_data.csv.csv\")\n",
    "\n",
    "# Clean column names\n",
    "df.columns = df.columns.str.strip()\n",
    "\n",
    "# Print actual column names for debugging\n",
    "print(\"Detected Columns:\", df.columns.tolist())\n",
    "\n",
    "# Automatically detect columns that start with a number\n",
    "emotion_columns = [col for col in df.columns if col[:1].isdigit()]\n",
    "\n",
    "# Melt to message/emotion format\n",
    "df_melted = df[emotion_columns].melt(var_name='emotion', value_name='message')\n",
    "\n",
    "# Drop empty\n",
    "df_melted.dropna(subset=['message'], inplace=True)\n",
    "\n",
    "# Clean emotion labels: remove \"1. \", fix spelling\n",
    "df_melted['emotion'] = (\n",
    "    df_melted['emotion']\n",
    "    .str.replace(r'^\\d+\\.\\s*', '', regex=True)\n",
    "    .replace({'Sadnes': 'Sadness'})\n",
    "    .str.lower()  # convert emotions to lowercase\n",
    ")\n",
    "\n",
    "# Convert messages to lowercase\n",
    "df_melted['message'] = df_melted['message'].str.lower()\n",
    "\n",
    "# Reorder\n",
    "df_cleaned = df_melted[['message', 'emotion']]\n",
    "\n",
    "df_cleaned.to_csv(\"student_emotions_cleaned_lowercase.csv\", index=False)\n",
    "\n",
    "\n",
    "print(df_cleaned.head())\n"
   ]
  },
  {
   "cell_type": "code",
   "execution_count": 22,
   "id": "cc87cde9-8f17-4c7d-a220-14581fc9636f",
   "metadata": {},
   "outputs": [
    {
     "name": "stdout",
     "output_type": "stream",
     "text": [
      "                                             message  \\\n",
      "0  i finally passed the exam i was so stressed about   \n",
      "1  alhamdulillah i finally got an a for my projec...   \n",
      "2                           tomarrows lecture cancel   \n",
      "3                                    i am so excited   \n",
      "4  im so happy today i passed all my subjects in ...   \n",
      "\n",
      "                                             emotion  \n",
      "0  joy\\n (e.g., lecturer ended class 30 minutes-e...  \n",
      "1  joy\\n (e.g., lecturer ended class 30 minutes-e...  \n",
      "2  joy\\n (e.g., lecturer ended class 30 minutes-e...  \n",
      "3  joy\\n (e.g., lecturer ended class 30 minutes-e...  \n",
      "4  joy\\n (e.g., lecturer ended class 30 minutes-e...  \n"
     ]
    }
   ],
   "source": [
    "import re\n",
    "\n",
    "# Function to remove emojis and special characters\n",
    "def clean_text(text):\n",
    "    # Remove emojis and non-text symbols using regex ranges for emojis/unicode symbols\n",
    "    emoji_pattern = re.compile(\n",
    "        \"[\"\n",
    "        \"\\U0001F600-\\U0001F64F\"  # emoticons\n",
    "        \"\\U0001F300-\\U0001F5FF\"  # symbols & pictographs\n",
    "        \"\\U0001F680-\\U0001F6FF\"  # transport & map symbols\n",
    "        \"\\U0001F1E0-\\U0001F1FF\"  # flags (iOS)\n",
    "        \"\\U00002700-\\U000027BF\"  # Dingbats\n",
    "        \"\\U000024C2-\\U0001F251\"\n",
    "        \"]+\", flags=re.UNICODE)\n",
    "    \n",
    "    text = emoji_pattern.sub(r'', text)  # Remove emojis\n",
    "    \n",
    "    # Remove punctuation and symbols (keep only letters, numbers and spaces)\n",
    "    text = re.sub(r'[^a-zA-Z0-9\\s]', '', text)\n",
    "    \n",
    "    # Remove extra whitespace\n",
    "    text = re.sub(r'\\s+', ' ', text).strip()\n",
    "    \n",
    "    return text\n",
    "\n",
    "# Apply the cleaning function to the 'message' column\n",
    "df_cleaned['message'] = df_cleaned['message'].apply(clean_text)\n",
    "\n",
    "# Save cleaned file\n",
    "df_cleaned.to_csv(\"student_emotions_cleaned_lowercase_no_symbols.csv\", index=False)\n",
    "\n",
    "print(df_cleaned.head())\n"
   ]
  },
  {
   "cell_type": "code",
   "execution_count": 24,
   "id": "592c397a-c255-49b6-8478-0145d7a3bf2b",
   "metadata": {},
   "outputs": [
    {
     "name": "stdout",
     "output_type": "stream",
     "text": [
      "                                             message  \\\n",
      "0  i finally passed the exam i was so stressed about   \n",
      "1  alhamdulillah i finally got an a for my projec...   \n",
      "2                           tomarrows lecture cancel   \n",
      "3                                    i am so excited   \n",
      "4  im so happy today i passed all my subjects in ...   \n",
      "\n",
      "                                             emotion  \n",
      "0  joy\\n (e.g., lecturer ended class 30 minutes-e...  \n",
      "1  joy\\n (e.g., lecturer ended class 30 minutes-e...  \n",
      "2  joy\\n (e.g., lecturer ended class 30 minutes-e...  \n",
      "3  joy\\n (e.g., lecturer ended class 30 minutes-e...  \n",
      "4  joy\\n (e.g., lecturer ended class 30 minutes-e...  \n"
     ]
    }
   ],
   "source": [
    "# Apply the cleaning function\n",
    "df_cleaned['message'] = df_cleaned['message'].apply(clean_text)\n",
    "\n",
    "# Drop empty messages after cleaning\n",
    "df_cleaned = df_cleaned[df_cleaned['message'].str.strip() != '']\n",
    "\n",
    "# Save the cleaned CSV\n",
    "df_cleaned.to_csv(\"student_emotions_cleaned_lowercase_no_symbols.csv\", index=False)\n",
    "\n",
    "print(df_cleaned.head())\n"
   ]
  },
  {
   "cell_type": "code",
   "execution_count": 23,
   "id": "a8085c09-2afe-42e3-9352-d84a5d9a2021",
   "metadata": {},
   "outputs": [
    {
     "name": "stderr",
     "output_type": "stream",
     "text": [
      "[nltk_data] Downloading package punkt_tab to C:\\Users\\WINDOWS\n",
      "[nltk_data]     1O\\AppData\\Roaming\\nltk_data...\n",
      "[nltk_data]   Unzipping tokenizers\\punkt_tab.zip.\n"
     ]
    },
    {
     "data": {
      "text/plain": [
       "True"
      ]
     },
     "execution_count": 23,
     "metadata": {},
     "output_type": "execute_result"
    }
   ],
   "source": [
    "import nltk\n",
    "nltk.download('punkt_tab')  # the correct tokenizer name in NLTK v3.8.2+\n"
   ]
  },
  {
   "cell_type": "code",
   "execution_count": 24,
   "id": "df337873-5640-4f88-9954-c44354abd329",
   "metadata": {},
   "outputs": [
    {
     "name": "stdout",
     "output_type": "stream",
     "text": [
      "['This', 'is', 'a', 'test', '!']\n"
     ]
    }
   ],
   "source": [
    "from nltk.tokenize import word_tokenize\n",
    "\n",
    "tokens = word_tokenize(\"This is a test!\")\n",
    "print(tokens)\n"
   ]
  },
  {
   "cell_type": "code",
   "execution_count": 1,
   "id": "41705dd0-fdb7-4074-ad91-99cfab753c34",
   "metadata": {},
   "outputs": [
    {
     "name": "stderr",
     "output_type": "stream",
     "text": [
      "[nltk_data] Downloading package punkt_tab to C:\\Users\\WINDOWS\n",
      "[nltk_data]     1O\\AppData\\Roaming\\nltk_data...\n",
      "[nltk_data]   Package punkt_tab is already up-to-date!\n"
     ]
    }
   ],
   "source": [
    "import nltk\n",
    "\n",
    "try:\n",
    "    nltk.download('punkt_tab')\n",
    "except:\n",
    "    nltk.download('punkt')\n",
    "\n",
    "# then use word_tokenize as usual\n"
   ]
  },
  {
   "cell_type": "code",
   "execution_count": 6,
   "id": "26316e1f-80da-49f2-a658-25ff4dd946ed",
   "metadata": {},
   "outputs": [
    {
     "name": "stdout",
     "output_type": "stream",
     "text": [
      "✅ File saved to: C:\\Users\\WINDOWS 1O\\Desktop\\EmotionDetection\\Processed\\student_emotions_tokenized_v2.csv\n"
     ]
    },
    {
     "name": "stderr",
     "output_type": "stream",
     "text": [
      "[nltk_data] Downloading package punkt to C:\\Users\\WINDOWS\n",
      "[nltk_data]     1O\\AppData\\Roaming\\nltk_data...\n",
      "[nltk_data]   Package punkt is already up-to-date!\n"
     ]
    }
   ],
   "source": [
    "from pathlib import Path\n",
    "import pandas as pd\n",
    "import nltk\n",
    "import os\n",
    "from nltk.tokenize import word_tokenize\n",
    "\n",
    "# Download tokenizer\n",
    "nltk.download('punkt')\n",
    "\n",
    "# Load CSV\n",
    "df = pd.read_csv(\"student_emotions_cleaned_lowercase_no_symbols.csv\")\n",
    "\n",
    "# Tokenize into list\n",
    "df['tokenized_message'] = df['message'].apply(lambda x: word_tokenize(str(x)))\n",
    "\n",
    "# Keep only the tokenized message and emotion\n",
    "df_cleaned = df[['tokenized_message', 'emotion']]\n",
    "\n",
    "# Dynamically get correct Desktop path\n",
    "ddesktop_path = Path.home() / \"Desktop\" / \"EmotionDetection\" / \"Processed\"\n",
    "os.makedirs(desktop_path, exist_ok=True)\n",
    "\n",
    "# Save\n",
    "output_file = desktop_path / \"student_emotions_tokenized_v2.csv\"\n",
    "df_cleaned.to_csv(output_file, index=False)\n",
    "print(\"✅ File saved to:\", output_file)\n"
   ]
  },
  {
   "cell_type": "code",
   "execution_count": 1,
   "id": "7965033c-9b9f-417a-8f7c-1842284f9da3",
   "metadata": {},
   "outputs": [
    {
     "name": "stdout",
     "output_type": "stream",
     "text": [
      "✅ Stopwords removed and file saved to: C:\\Users\\WINDOWS 1O\\Desktop\\EmotionDetection\\Processed\\student_emotions_tokenized_no_stopwords.csv\n"
     ]
    },
    {
     "name": "stderr",
     "output_type": "stream",
     "text": [
      "[nltk_data] Downloading package stopwords to C:\\Users\\WINDOWS\n",
      "[nltk_data]     1O\\AppData\\Roaming\\nltk_data...\n",
      "[nltk_data]   Package stopwords is already up-to-date!\n",
      "C:\\Users\\WINDOWS 1O\\AppData\\Local\\Temp\\ipykernel_10288\\2387088343.py:29: SettingWithCopyWarning: \n",
      "A value is trying to be set on a copy of a slice from a DataFrame\n",
      "\n",
      "See the caveats in the documentation: https://pandas.pydata.org/pandas-docs/stable/user_guide/indexing.html#returning-a-view-versus-a-copy\n",
      "  df_cleaned.rename(columns={'filtered_tokens': 'message'}, inplace=True)\n"
     ]
    }
   ],
   "source": [
    "from pathlib import Path\n",
    "import pandas as pd\n",
    "import nltk\n",
    "import os\n",
    "import ast\n",
    "from nltk.corpus import stopwords\n",
    "\n",
    "# Download stopwords if not already done\n",
    "nltk.download('stopwords')\n",
    "\n",
    "# Load the tokenized CSV\n",
    "desktop_path = Path.home() / \"Desktop\" / \"EmotionDetection\" / \"Processed\"\n",
    "input_file = desktop_path / \"student_emotions_tokenized_v2.csv\"\n",
    "df = pd.read_csv(input_file)\n",
    "\n",
    "# Convert stringified lists to actual lists using ast.literal_eval\n",
    "df['tokenized_message'] = df['tokenized_message'].apply(ast.literal_eval)\n",
    "\n",
    "# Define stopwords\n",
    "stop_words = set(stopwords.words('english'))\n",
    "\n",
    "# Remove stopwords\n",
    "df['filtered_tokens'] = df['tokenized_message'].apply(\n",
    "    lambda tokens: [word for word in tokens if word.lower() not in stop_words]\n",
    ")\n",
    "\n",
    "# Keep only necessary columns and rename\n",
    "df_cleaned = df[['filtered_tokens', 'emotion']]\n",
    "df_cleaned.rename(columns={'filtered_tokens': 'message'}, inplace=True)\n",
    "\n",
    "# Save the cleaned file\n",
    "output_file = desktop_path / \"student_emotions_tokenized_no_stopwords.csv\"\n",
    "df_cleaned.to_csv(output_file, index=False)\n",
    "\n",
    "print(\"✅ Stopwords removed and file saved to:\", output_file)\n"
   ]
  },
  {
   "cell_type": "code",
   "execution_count": 2,
   "id": "d5c6fac9-c5f9-4401-9824-408f9337f42b",
   "metadata": {},
   "outputs": [
    {
     "name": "stderr",
     "output_type": "stream",
     "text": [
      "C:\\Users\\WINDOWS 1O\\AppData\\Local\\Temp\\ipykernel_10288\\661077062.py:1: SettingWithCopyWarning: \n",
      "A value is trying to be set on a copy of a slice from a DataFrame.\n",
      "Try using .loc[row_indexer,col_indexer] = value instead\n",
      "\n",
      "See the caveats in the documentation: https://pandas.pydata.org/pandas-docs/stable/user_guide/indexing.html#returning-a-view-versus-a-copy\n",
      "  df_cleaned['message'] = df_cleaned['message'].apply(lambda tokens: ' '.join(tokens))\n"
     ]
    }
   ],
   "source": [
    "df_cleaned['message'] = df_cleaned['message'].apply(lambda tokens: ' '.join(tokens))\n"
   ]
  },
  {
   "cell_type": "code",
   "execution_count": 3,
   "id": "242d1ca1-9d2e-4292-9048-4fc8ba2f2296",
   "metadata": {},
   "outputs": [],
   "source": [
    "df_cleaned = df_cleaned[df_cleaned['message'].apply(len) > 0]\n"
   ]
  },
  {
   "cell_type": "code",
   "execution_count": 4,
   "id": "4471578d-c145-492e-89d9-bce425181f77",
   "metadata": {},
   "outputs": [
    {
     "name": "stdout",
     "output_type": "stream",
     "text": [
      "✅ Final cleaned file saved to: C:\\Users\\WINDOWS 1O\\Desktop\\EmotionDetection\\FinalCleaned\\student_emotions_final_cleaned.csv\n"
     ]
    }
   ],
   "source": [
    "from pathlib import Path\n",
    "import pandas as pd\n",
    "import os\n",
    "\n",
    "# Load your already cleaned (stopword-removed) CSV\n",
    "input_path = Path.home() / \"Desktop\" / \"EmotionDetection\" / \"Processed\" / \"student_emotions_tokenized_no_stopwords.csv\"\n",
    "df_cleaned = pd.read_csv(input_path)\n",
    "\n",
    "# Convert stringified lists back to Python lists (if needed)\n",
    "import ast\n",
    "df_cleaned['message'] = df_cleaned['message'].apply(ast.literal_eval)\n",
    "\n",
    "# Drop empty rows (where message list is empty)\n",
    "df_cleaned = df_cleaned[df_cleaned['message'].apply(len) > 0]\n",
    "\n",
    "# Optionally: rejoin tokens into strings if needed by your model\n",
    "# df_cleaned['message'] = df_cleaned['message'].apply(lambda tokens: ' '.join(tokens))\n",
    "\n",
    "# 📁 Create a separate folder for final output\n",
    "final_output_folder = Path.home() / \"Desktop\" / \"EmotionDetection\" / \"FinalCleaned\"\n",
    "os.makedirs(final_output_folder, exist_ok=True)\n",
    "\n",
    "# Save the final cleaned CSV\n",
    "final_output_file = final_output_folder / \"student_emotions_final_cleaned.csv\"\n",
    "df_cleaned.to_csv(final_output_file, index=False)\n",
    "\n",
    "print(\"✅ Final cleaned file saved to:\", final_output_file)\n"
   ]
  },
  {
   "cell_type": "code",
   "execution_count": 5,
   "id": "aa0d709b-6396-49dc-8b94-cb75dc29b757",
   "metadata": {},
   "outputs": [
    {
     "name": "stdout",
     "output_type": "stream",
     "text": [
      "✅ Label mapping: {'anger  \\n (e.g.,  lecturer canceled the class last minute again!)': np.int64(0), \"fear  \\n (e.g., viva starts in 5 minutes. i'm shaking.)\": np.int64(1), 'joy\\n (e.g., lecturer ended class 30 minutes-early blessing!.)': np.int64(2), 'neutral  \\n (e.g., had lunch and attended lectures.)': np.int64(3), 'sadness  \\n (e.g., missed the scholarship by just 1 mark.)': np.int64(4)}\n"
     ]
    }
   ],
   "source": [
    "from sklearn.preprocessing import LabelEncoder\n",
    "\n",
    "# Initialize the encoder\n",
    "le = LabelEncoder()\n",
    "\n",
    "# Fit and transform emotion labels\n",
    "df_cleaned['label'] = le.fit_transform(df_cleaned['emotion'])\n",
    "\n",
    "# Show label mapping\n",
    "label_mapping = dict(zip(le.classes_, le.transform(le.classes_)))\n",
    "print(\"✅ Label mapping:\", label_mapping)\n"
   ]
  },
  {
   "cell_type": "code",
   "execution_count": null,
   "id": "c14f0d8c-fe96-4708-a880-7e300d09ebf4",
   "metadata": {},
   "outputs": [],
   "source": [
    "import pandas as pd\n",
    "from pathlib import Path\n",
    "import os\n",
    "\n",
    "# Load the final cleaned CSV\n",
    "final_output_file = Path.home() / \"Desktop\" / \"EmotionDetection\" / \"FinalCleaned\" / \"student_emotions_final_cleaned.csv\"\n",
    "df_cleaned = pd.read_csv(final_output_file)\n"
   ]
  },
  {
   "cell_type": "code",
   "execution_count": 6,
   "id": "7db03149-2db7-4e15-93a0-d7298568ab7b",
   "metadata": {},
   "outputs": [
    {
     "name": "stdout",
     "output_type": "stream",
     "text": [
      "✅ Final labeled file saved to: C:\\Users\\WINDOWS 1O\\Desktop\\EmotionDetection\\FinalCleaned\\student_emotions_with_labels.csv\n"
     ]
    }
   ],
   "source": [
    "from pathlib import Path\n",
    "import pandas as pd\n",
    "import os\n",
    "import ast\n",
    "\n",
    "# Step 1: Load your final cleaned CSV (no stopwords, no empty rows)\n",
    "input_path = Path.home() / \"Desktop\" / \"EmotionDetection\" / \"FinalCleaned\" / \"student_emotions_final_cleaned.csv\"\n",
    "df_cleaned = pd.read_csv(input_path)\n",
    "\n",
    "# Step 2: If message column is stored as a string list, convert it back to a real list\n",
    "df_cleaned['message'] = df_cleaned['message'].apply(ast.literal_eval)\n",
    "\n",
    "# OPTIONAL: Join tokens back into full text (this helps for model training later)\n",
    "df_cleaned['message'] = df_cleaned['message'].apply(lambda tokens: ' '.join(tokens))\n",
    "\n",
    "# Step 3: Clean the emotion column (remove example text and keep just the emotion word)\n",
    "df_cleaned['emotion'] = df_cleaned['emotion'].apply(lambda x: x.strip().split()[0].lower())\n",
    "\n",
    "# Step 4: Apply custom label mapping\n",
    "emotion_to_label = {\n",
    "    'joy': 0,\n",
    "    'sadness': 1,\n",
    "    'anger': 2,\n",
    "    'fear': 3,\n",
    "    'neutral': 4\n",
    "}\n",
    "df_cleaned['label'] = df_cleaned['emotion'].map(emotion_to_label)\n",
    "\n",
    "# Step 5: Save the final labeled dataset\n",
    "final_output_folder = Path.home() / \"Desktop\" / \"EmotionDetection\" / \"FinalCleaned\"\n",
    "os.makedirs(final_output_folder, exist_ok=True)\n",
    "\n",
    "output_file = final_output_folder / \"student_emotions_with_labels.csv\"\n",
    "df_cleaned.to_csv(output_file, index=False)\n",
    "\n",
    "print(\"✅ Final labeled file saved to:\", output_file)\n"
   ]
  },
  {
   "cell_type": "code",
   "execution_count": 7,
   "id": "43dcc35d-58fc-4236-a7de-0d47927514c1",
   "metadata": {},
   "outputs": [
    {
     "name": "stdout",
     "output_type": "stream",
     "text": [
      "✅ Vectorization complete.\n",
      "Feature matrix shape (X): (757, 1114)\n",
      "Number of labels (y): 757\n"
     ]
    }
   ],
   "source": [
    "from pathlib import Path\n",
    "import pandas as pd\n",
    "from sklearn.feature_extraction.text import TfidfVectorizer\n",
    "\n",
    "# Step 1: Load your final labeled CSV\n",
    "input_file = Path.home() / \"Desktop\" / \"EmotionDetection\" / \"FinalCleaned\" / \"student_emotions_with_labels.csv\"\n",
    "df = pd.read_csv(input_file)\n",
    "\n",
    "# Step 2: Extract message and label columns\n",
    "texts = df['message']         # This is your input (X)\n",
    "labels = df['label']          # This is your target (y)\n",
    "\n",
    "# Step 3: TF-IDF Vectorization\n",
    "vectorizer = TfidfVectorizer()\n",
    "X = vectorizer.fit_transform(texts)  # X is now a matrix of TF-IDF features\n",
    "y = labels                           # y is already numeric (your emotion labels)\n",
    "\n",
    "# Step 4: Show the shape of the result\n",
    "print(\"✅ Vectorization complete.\")\n",
    "print(\"Feature matrix shape (X):\", X.shape)\n",
    "print(\"Number of labels (y):\", len(y))\n"
   ]
  },
  {
   "cell_type": "code",
   "execution_count": 8,
   "id": "bc14dadf-d919-40ed-b83d-91b7578acaa6",
   "metadata": {},
   "outputs": [
    {
     "name": "stdout",
     "output_type": "stream",
     "text": [
      "✅ Vectorized data with labels saved to: C:\\Users\\WINDOWS 1O\\Desktop\\EmotionDetection\\Vectorized\\student_emotions_vectorized.csv\n"
     ]
    }
   ],
   "source": [
    "import pandas as pd\n",
    "import numpy as np\n",
    "from pathlib import Path\n",
    "\n",
    "# Convert sparse matrix X to a dense array\n",
    "X_dense = X.toarray()\n",
    "\n",
    "# Get feature names (TF-IDF words)\n",
    "feature_names = vectorizer.get_feature_names_out()\n",
    "\n",
    "# Create a DataFrame for X\n",
    "df_X = pd.DataFrame(X_dense, columns=feature_names)\n",
    "\n",
    "# Add the labels to the DataFrame\n",
    "df_X['label'] = y.values\n",
    "\n",
    "# Define the output path\n",
    "output_path = Path.home() / \"Desktop\" / \"EmotionDetection\" / \"Vectorized\"\n",
    "output_path.mkdir(parents=True, exist_ok=True)\n",
    "\n",
    "# Save to CSV\n",
    "output_file = output_path / \"student_emotions_vectorized.csv\"\n",
    "df_X.to_csv(output_file, index=False)\n",
    "\n",
    "print(\"✅ Vectorized data with labels saved to:\", output_file)\n"
   ]
  },
  {
   "cell_type": "code",
   "execution_count": 10,
   "id": "9270251e-ff7a-4420-8052-2ee06a11d6a6",
   "metadata": {},
   "outputs": [
    {
     "name": "stderr",
     "output_type": "stream",
     "text": [
      "Matplotlib is building the font cache; this may take a moment.\n"
     ]
    },
    {
     "name": "stdout",
     "output_type": "stream",
     "text": [
      "Accuracy: 0.5986842105263158\n",
      "\n",
      "Classification Report:\n",
      "               precision    recall  f1-score   support\n",
      "\n",
      "           0       0.67      0.52      0.58        31\n",
      "           1       0.56      0.63      0.59        30\n",
      "           2       0.70      0.49      0.58        39\n",
      "           3       0.54      0.58      0.56        26\n",
      "           4       0.56      0.85      0.68        26\n",
      "\n",
      "    accuracy                           0.60       152\n",
      "   macro avg       0.61      0.61      0.60       152\n",
      "weighted avg       0.61      0.60      0.59       152\n",
      "\n"
     ]
    },
    {
     "data": {
      "image/png": "[encoded data removed]",
      "text/plain": [
       "<Figure size 800x600 with 2 Axes>"
      ]
     },
     "metadata": {},
     "output_type": "display_data"
    }
   ],
   "source": [
    "from sklearn.model_selection import train_test_split\n",
    "from sklearn.linear_model import LogisticRegression\n",
    "from sklearn.metrics import accuracy_score, classification_report, confusion_matrix\n",
    "import seaborn as sns\n",
    "import matplotlib.pyplot as plt\n",
    "\n",
    "# Step 1: Split data into training and testing sets\n",
    "X_train, X_test, y_train, y_test = train_test_split(X, y, test_size=0.2, random_state=42)\n",
    "\n",
    "# Step 2: Train a classifier\n",
    "clf = LogisticRegression(max_iter=1000)\n",
    "clf.fit(X_train, y_train)\n",
    "\n",
    "# Step 3: Predict on test data\n",
    "y_pred = clf.predict(X_test)\n",
    "\n",
    "# Step 4: Evaluate performance\n",
    "accuracy = accuracy_score(y_test, y_pred)\n",
    "print(\"Accuracy:\", accuracy)\n",
    "print(\"\\nClassification Report:\\n\", classification_report(y_test, y_pred))\n",
    "\n",
    "# Step 5: Confusion matrix\n",
    "conf_mat = confusion_matrix(y_test, y_pred)\n",
    "\n",
    "# Optional: define label names if available\n",
    "label_names = ['joy', 'sadness', 'anger', 'fear', 'neutral']\n",
    "\n",
    "# Plot confusion matrix\n",
    "plt.figure(figsize=(8, 6))\n",
    "sns.heatmap(conf_mat, annot=True, fmt=\"d\", cmap=\"Blues\",\n",
    "            xticklabels=label_names, yticklabels=label_names)\n",
    "plt.xlabel(\"Predicted\")\n",
    "plt.ylabel(\"Actual\")\n",
    "plt.title(\"Confusion Matrix\")\n",
    "plt.tight_layout()\n",
    "plt.show()\n"
   ]
  },
  {
   "cell_type": "code",
   "execution_count": 11,
   "id": "0bf74648-a02a-427b-a59a-a3f0abff0877",
   "metadata": {},
   "outputs": [
    {
     "name": "stdout",
     "output_type": "stream",
     "text": [
      "Logistic Regression Accuracy: 0.5987\n",
      "Naive Bayes Accuracy: 0.6053\n",
      "SVM Accuracy: 0.5987\n",
      "Random Forest Accuracy: 0.5592\n"
     ]
    }
   ],
   "source": [
    "from sklearn.naive_bayes import MultinomialNB\n",
    "from sklearn.svm import SVC\n",
    "from sklearn.ensemble import RandomForestClassifier\n",
    "\n",
    "models = {\n",
    "    \"Logistic Regression\": LogisticRegression(max_iter=1000),\n",
    "    \"Naive Bayes\": MultinomialNB(),\n",
    "    \"SVM\": SVC(),\n",
    "    \"Random Forest\": RandomForestClassifier()\n",
    "}\n",
    "\n",
    "for name, model in models.items():\n",
    "    model.fit(X_train, y_train)\n",
    "    accuracy = model.score(X_test, y_test)\n",
    "    print(f\"{name} Accuracy: {accuracy:.4f}\")\n"
   ]
  },
  {
   "cell_type": "code",
   "execution_count": 12,
   "id": "7d3551ba-18ea-49d3-bd75-15ba1f25816b",
   "metadata": {},
   "outputs": [
    {
     "data": {
      "text/plain": [
       "['tfidf_vectorizer.pkl']"
      ]
     },
     "execution_count": 12,
     "metadata": {},
     "output_type": "execute_result"
    }
   ],
   "source": [
    "import joblib\n",
    "\n",
    "# Save model and vectorizer\n",
    "joblib.dump(clf, \"emotion_model.pkl\")\n",
    "joblib.dump(vectorizer, \"tfidf_vectorizer.pkl\")\n"
   ]
  },
  {
   "cell_type": "code",
   "execution_count": 14,
   "id": "312cbf31-57ac-4562-b520-3e669c372aee",
   "metadata": {},
   "outputs": [
    {
     "name": "stderr",
     "output_type": "stream",
     "text": [
      "[nltk_data] Downloading package punkt to C:\\Users\\WINDOWS\n",
      "[nltk_data]     1O\\AppData\\Roaming\\nltk_data...\n"
     ]
    },
    {
     "name": "stdout",
     "output_type": "stream",
     "text": [
      "fear\n"
     ]
    },
    {
     "name": "stderr",
     "output_type": "stream",
     "text": [
      "[nltk_data]   Package punkt is already up-to-date!\n",
      "[nltk_data] Downloading package stopwords to C:\\Users\\WINDOWS\n",
      "[nltk_data]     1O\\AppData\\Roaming\\nltk_data...\n",
      "[nltk_data]   Package stopwords is already up-to-date!\n"
     ]
    }
   ],
   "source": [
    "import nltk\n",
    "from nltk.tokenize import word_tokenize\n",
    "from nltk.corpus import stopwords\n",
    "\n",
    "# Download once\n",
    "nltk.download('punkt')\n",
    "nltk.download('stopwords')\n",
    "\n",
    "stop_words = set(stopwords.words('english'))\n",
    "\n",
    "# Reverse mapping for label → emotion name\n",
    "label_to_emotion = {\n",
    "    0: \"joy\",\n",
    "    1: \"sadness\",\n",
    "    2: \"anger\",\n",
    "    3: \"fear\",\n",
    "    4: \"neutral\"\n",
    "}\n",
    "\n",
    "def predict_emotion(text):\n",
    "    text_cleaned = ' '.join([word for word in word_tokenize(text.lower()) if word not in stop_words])\n",
    "    text_vector = vectorizer.transform([text_cleaned])\n",
    "    pred_label = clf.predict(text_vector)[0]\n",
    "    return label_to_emotion[pred_label]\n",
    "\n",
    "# ✅ Test\n",
    "print(predict_emotion(\"I'm really nervous about tomorrow's exam.\"))\n"
   ]
  },
  {
   "cell_type": "code",
   "execution_count": 16,
   "id": "d988124c-dc68-4b50-a150-2e0c6b297a74",
   "metadata": {},
   "outputs": [],
   "source": [
    "import pandas as pd\n",
    "from pathlib import Path\n",
    "import matplotlib.pyplot as plt\n",
    "import seaborn as sns\n",
    "\n",
    "# Load final dataset\n",
    "file_path = Path.home() / \"Desktop\" / \"EmotionDetection\" / \"FinalCleaned\" / \"student_emotions_with_labels.csv\"\n",
    "df = pd.read_csv(file_path)\n"
   ]
  },
  {
   "cell_type": "code",
   "execution_count": 17,
   "id": "209228af-7533-4d37-87ef-a88c5bba3777",
   "metadata": {},
   "outputs": [
    {
     "data": {
      "image/png": "[encoded data removed]",
      "text/plain": [
       "<Figure size 600x600 with 1 Axes>"
      ]
     },
     "metadata": {},
     "output_type": "display_data"
    }
   ],
   "source": [
    "# Count each emotion\n",
    "label_counts = df['label'].value_counts().sort_index()\n",
    "labels = ['joy', 'sadness', 'anger', 'fear', 'neutral']\n",
    "\n",
    "plt.figure(figsize=(6, 6))\n",
    "plt.pie(label_counts, labels=labels, autopct='%1.1f%%', startangle=140)\n",
    "plt.title(\"Emotion Distribution (Pie Chart)\")\n",
    "plt.axis('equal')\n",
    "plt.show()\n"
   ]
  },
  {
   "cell_type": "code",
   "execution_count": 18,
   "id": "3c62e613-47f7-485b-81f6-6759e273352c",
   "metadata": {},
   "outputs": [
    {
     "name": "stderr",
     "output_type": "stream",
     "text": [
      "C:\\Users\\WINDOWS 1O\\AppData\\Local\\Temp\\ipykernel_10288\\1783147096.py:3: FutureWarning: \n",
      "\n",
      "Passing `palette` without assigning `hue` is deprecated and will be removed in v0.14.0. Assign the `x` variable to `hue` and set `legend=False` for the same effect.\n",
      "\n",
      "  sns.barplot(x=labels, y=label_counts.values, palette='pastel')\n"
     ]
    },
    {
     "data": {
      "image/png": "[encoded data removed]",
      "text/plain": [
       "<Figure size 800x500 with 1 Axes>"
      ]
     },
     "metadata": {},
     "output_type": "display_data"
    }
   ],
   "source": [
    "sns.set(style=\"whitegrid\")\n",
    "plt.figure(figsize=(8, 5))\n",
    "sns.barplot(x=labels, y=label_counts.values, palette='pastel')\n",
    "plt.title(\"Emotion Distribution (Bar Chart)\")\n",
    "plt.xlabel(\"Emotion\")\n",
    "plt.ylabel(\"Number of Messages\")\n",
    "plt.show()\n"
   ]
  },
  {
   "cell_type": "code",
   "execution_count": 19,
   "id": "346ab9d8-da18-421f-808d-f35ba107f674",
   "metadata": {},
   "outputs": [
    {
     "data": {
      "image/png": "[encoded data removed]",
      "text/plain": [
       "<Figure size 800x500 with 1 Axes>"
      ]
     },
     "metadata": {},
     "output_type": "display_data"
    }
   ],
   "source": [
    "df['message_length'] = df['message'].apply(lambda x: len(str(x).split()))\n",
    "\n",
    "plt.figure(figsize=(8, 5))\n",
    "sns.histplot(df['message_length'], bins=30, kde=True, color='skyblue')\n",
    "plt.title(\"Message Length Distribution\")\n",
    "plt.xlabel(\"Number of Words\")\n",
    "plt.ylabel(\"Frequency\")\n",
    "plt.show()\n"
   ]
  },
  {
   "cell_type": "code",
   "execution_count": 20,
   "id": "d6477334-d698-42d2-a68a-8e5dfd3db4ce",
   "metadata": {},
   "outputs": [
    {
     "name": "stdout",
     "output_type": "stream",
     "text": [
      "📁 Processed Folder Files: ['student_emotions_tokenized.csv', 'student_emotions_tokenized_no_stopwords.csv', 'student_emotions_tokenized_v2.csv']\n",
      "📁 FinalCleaned Folder Files: ['student_emotions_final_cleaned.csv', 'student_emotions_with_labels.csv']\n"
     ]
    }
   ],
   "source": [
    "import os\n",
    "from pathlib import Path\n",
    "\n",
    "processed_path = Path.home() / \"Desktop\" / \"EmotionDetection\" / \"Processed\"\n",
    "final_path = Path.home() / \"Desktop\" / \"EmotionDetection\" / \"FinalCleaned\"\n",
    "\n",
    "print(\"📁 Processed Folder Files:\", os.listdir(processed_path))\n",
    "print(\"📁 FinalCleaned Folder Files:\", os.listdir(final_path))\n"
   ]
  },
  {
   "cell_type": "code",
   "execution_count": 21,
   "id": "31117b16-7e51-4e3b-9280-0ddb5c7f723c",
   "metadata": {},
   "outputs": [
    {
     "ename": "FileNotFoundError",
     "evalue": "[Errno 2] No such file or directory: 'student_emotions_with_labels.csv'",
     "output_type": "error",
     "traceback": [
      "\u001b[31m---------------------------------------------------------------------------\u001b[39m",
      "\u001b[31mFileNotFoundError\u001b[39m                         Traceback (most recent call last)",
      "\u001b[36mCell\u001b[39m\u001b[36m \u001b[39m\u001b[32mIn[21]\u001b[39m\u001b[32m, line 4\u001b[39m\n\u001b[32m      1\u001b[39m \u001b[38;5;28;01mimport\u001b[39;00m\u001b[38;5;250m \u001b[39m\u001b[34;01mpandas\u001b[39;00m\u001b[38;5;250m \u001b[39m\u001b[38;5;28;01mas\u001b[39;00m\u001b[38;5;250m \u001b[39m\u001b[34;01mpd\u001b[39;00m\n\u001b[32m      3\u001b[39m \u001b[38;5;66;03m# Load the final cleaned and labeled dataset\u001b[39;00m\n\u001b[32m----> \u001b[39m\u001b[32m4\u001b[39m df = pd.read_csv(\u001b[33m\"\u001b[39m\u001b[33mstudent_emotions_with_labels.csv\u001b[39m\u001b[33m\"\u001b[39m)\n",
      "\u001b[36mFile \u001b[39m\u001b[32m~\\AppData\\Roaming\\Python\\Python313\\site-packages\\pandas\\io\\parsers\\readers.py:1026\u001b[39m, in \u001b[36mread_csv\u001b[39m\u001b[34m(filepath_or_buffer, sep, delimiter, header, names, index_col, usecols, dtype, engine, converters, true_values, false_values, skipinitialspace, skiprows, skipfooter, nrows, na_values, keep_default_na, na_filter, verbose, skip_blank_lines, parse_dates, infer_datetime_format, keep_date_col, date_parser, date_format, dayfirst, cache_dates, iterator, chunksize, compression, thousands, decimal, lineterminator, quotechar, quoting, doublequote, escapechar, comment, encoding, encoding_errors, dialect, on_bad_lines, delim_whitespace, low_memory, memory_map, float_precision, storage_options, dtype_backend)\u001b[39m\n\u001b[32m   1013\u001b[39m kwds_defaults = _refine_defaults_read(\n\u001b[32m   1014\u001b[39m     dialect,\n\u001b[32m   1015\u001b[39m     delimiter,\n\u001b[32m   (...)\u001b[39m\u001b[32m   1022\u001b[39m     dtype_backend=dtype_backend,\n\u001b[32m   1023\u001b[39m )\n\u001b[32m   1024\u001b[39m kwds.update(kwds_defaults)\n\u001b[32m-> \u001b[39m\u001b[32m1026\u001b[39m \u001b[38;5;28;01mreturn\u001b[39;00m _read(filepath_or_buffer, kwds)\n",
      "\u001b[36mFile \u001b[39m\u001b[32m~\\AppData\\Roaming\\Python\\Python313\\site-packages\\pandas\\io\\parsers\\readers.py:620\u001b[39m, in \u001b[36m_read\u001b[39m\u001b[34m(filepath_or_buffer, kwds)\u001b[39m\n\u001b[32m    617\u001b[39m _validate_names(kwds.get(\u001b[33m\"\u001b[39m\u001b[33mnames\u001b[39m\u001b[33m\"\u001b[39m, \u001b[38;5;28;01mNone\u001b[39;00m))\n\u001b[32m    619\u001b[39m \u001b[38;5;66;03m# Create the parser.\u001b[39;00m\n\u001b[32m--> \u001b[39m\u001b[32m620\u001b[39m parser = TextFileReader(filepath_or_buffer, **kwds)\n\u001b[32m    622\u001b[39m \u001b[38;5;28;01mif\u001b[39;00m chunksize \u001b[38;5;129;01mor\u001b[39;00m iterator:\n\u001b[32m    623\u001b[39m     \u001b[38;5;28;01mreturn\u001b[39;00m parser\n",
      "\u001b[36mFile \u001b[39m\u001b[32m~\\AppData\\Roaming\\Python\\Python313\\site-packages\\pandas\\io\\parsers\\readers.py:1620\u001b[39m, in \u001b[36mTextFileReader.__init__\u001b[39m\u001b[34m(self, f, engine, **kwds)\u001b[39m\n\u001b[32m   1617\u001b[39m     \u001b[38;5;28mself\u001b[39m.options[\u001b[33m\"\u001b[39m\u001b[33mhas_index_names\u001b[39m\u001b[33m\"\u001b[39m] = kwds[\u001b[33m\"\u001b[39m\u001b[33mhas_index_names\u001b[39m\u001b[33m\"\u001b[39m]\n\u001b[32m   1619\u001b[39m \u001b[38;5;28mself\u001b[39m.handles: IOHandles | \u001b[38;5;28;01mNone\u001b[39;00m = \u001b[38;5;28;01mNone\u001b[39;00m\n\u001b[32m-> \u001b[39m\u001b[32m1620\u001b[39m \u001b[38;5;28mself\u001b[39m._engine = \u001b[38;5;28mself\u001b[39m._make_engine(f, \u001b[38;5;28mself\u001b[39m.engine)\n",
      "\u001b[36mFile \u001b[39m\u001b[32m~\\AppData\\Roaming\\Python\\Python313\\site-packages\\pandas\\io\\parsers\\readers.py:1880\u001b[39m, in \u001b[36mTextFileReader._make_engine\u001b[39m\u001b[34m(self, f, engine)\u001b[39m\n\u001b[32m   1878\u001b[39m     \u001b[38;5;28;01mif\u001b[39;00m \u001b[33m\"\u001b[39m\u001b[33mb\u001b[39m\u001b[33m\"\u001b[39m \u001b[38;5;129;01mnot\u001b[39;00m \u001b[38;5;129;01min\u001b[39;00m mode:\n\u001b[32m   1879\u001b[39m         mode += \u001b[33m\"\u001b[39m\u001b[33mb\u001b[39m\u001b[33m\"\u001b[39m\n\u001b[32m-> \u001b[39m\u001b[32m1880\u001b[39m \u001b[38;5;28mself\u001b[39m.handles = get_handle(\n\u001b[32m   1881\u001b[39m     f,\n\u001b[32m   1882\u001b[39m     mode,\n\u001b[32m   1883\u001b[39m     encoding=\u001b[38;5;28mself\u001b[39m.options.get(\u001b[33m\"\u001b[39m\u001b[33mencoding\u001b[39m\u001b[33m\"\u001b[39m, \u001b[38;5;28;01mNone\u001b[39;00m),\n\u001b[32m   1884\u001b[39m     compression=\u001b[38;5;28mself\u001b[39m.options.get(\u001b[33m\"\u001b[39m\u001b[33mcompression\u001b[39m\u001b[33m\"\u001b[39m, \u001b[38;5;28;01mNone\u001b[39;00m),\n\u001b[32m   1885\u001b[39m     memory_map=\u001b[38;5;28mself\u001b[39m.options.get(\u001b[33m\"\u001b[39m\u001b[33mmemory_map\u001b[39m\u001b[33m\"\u001b[39m, \u001b[38;5;28;01mFalse\u001b[39;00m),\n\u001b[32m   1886\u001b[39m     is_text=is_text,\n\u001b[32m   1887\u001b[39m     errors=\u001b[38;5;28mself\u001b[39m.options.get(\u001b[33m\"\u001b[39m\u001b[33mencoding_errors\u001b[39m\u001b[33m\"\u001b[39m, \u001b[33m\"\u001b[39m\u001b[33mstrict\u001b[39m\u001b[33m\"\u001b[39m),\n\u001b[32m   1888\u001b[39m     storage_options=\u001b[38;5;28mself\u001b[39m.options.get(\u001b[33m\"\u001b[39m\u001b[33mstorage_options\u001b[39m\u001b[33m\"\u001b[39m, \u001b[38;5;28;01mNone\u001b[39;00m),\n\u001b[32m   1889\u001b[39m )\n\u001b[32m   1890\u001b[39m \u001b[38;5;28;01massert\u001b[39;00m \u001b[38;5;28mself\u001b[39m.handles \u001b[38;5;129;01mis\u001b[39;00m \u001b[38;5;129;01mnot\u001b[39;00m \u001b[38;5;28;01mNone\u001b[39;00m\n\u001b[32m   1891\u001b[39m f = \u001b[38;5;28mself\u001b[39m.handles.handle\n",
      "\u001b[36mFile \u001b[39m\u001b[32m~\\AppData\\Roaming\\Python\\Python313\\site-packages\\pandas\\io\\common.py:873\u001b[39m, in \u001b[36mget_handle\u001b[39m\u001b[34m(path_or_buf, mode, encoding, compression, memory_map, is_text, errors, storage_options)\u001b[39m\n\u001b[32m    868\u001b[39m \u001b[38;5;28;01melif\u001b[39;00m \u001b[38;5;28misinstance\u001b[39m(handle, \u001b[38;5;28mstr\u001b[39m):\n\u001b[32m    869\u001b[39m     \u001b[38;5;66;03m# Check whether the filename is to be opened in binary mode.\u001b[39;00m\n\u001b[32m    870\u001b[39m     \u001b[38;5;66;03m# Binary mode does not support 'encoding' and 'newline'.\u001b[39;00m\n\u001b[32m    871\u001b[39m     \u001b[38;5;28;01mif\u001b[39;00m ioargs.encoding \u001b[38;5;129;01mand\u001b[39;00m \u001b[33m\"\u001b[39m\u001b[33mb\u001b[39m\u001b[33m\"\u001b[39m \u001b[38;5;129;01mnot\u001b[39;00m \u001b[38;5;129;01min\u001b[39;00m ioargs.mode:\n\u001b[32m    872\u001b[39m         \u001b[38;5;66;03m# Encoding\u001b[39;00m\n\u001b[32m--> \u001b[39m\u001b[32m873\u001b[39m         handle = \u001b[38;5;28mopen\u001b[39m(\n\u001b[32m    874\u001b[39m             handle,\n\u001b[32m    875\u001b[39m             ioargs.mode,\n\u001b[32m    876\u001b[39m             encoding=ioargs.encoding,\n\u001b[32m    877\u001b[39m             errors=errors,\n\u001b[32m    878\u001b[39m             newline=\u001b[33m\"\u001b[39m\u001b[33m\"\u001b[39m,\n\u001b[32m    879\u001b[39m         )\n\u001b[32m    880\u001b[39m     \u001b[38;5;28;01melse\u001b[39;00m:\n\u001b[32m    881\u001b[39m         \u001b[38;5;66;03m# Binary mode\u001b[39;00m\n\u001b[32m    882\u001b[39m         handle = \u001b[38;5;28mopen\u001b[39m(handle, ioargs.mode)\n",
      "\u001b[31mFileNotFoundError\u001b[39m: [Errno 2] No such file or directory: 'student_emotions_with_labels.csv'"
     ]
    }
   ],
   "source": [
    "import pandas as pd\n",
    "\n",
    "# Load the final cleaned and labeled dataset\n",
    "df = pd.read_csv(\"student_emotions_with_labels.csv\")  # Update path if needed\n"
   ]
  },
  {
   "cell_type": "code",
   "execution_count": 22,
   "id": "54b1d790-39d0-4be3-8596-03061de27f1a",
   "metadata": {},
   "outputs": [
    {
     "name": "stdout",
     "output_type": "stream",
     "text": [
      "Total Responses: 757\n",
      "Valid Responses: 757\n",
      "Invalid Responses: 0\n"
     ]
    }
   ],
   "source": [
    "# Total responses\n",
    "total = len(df)\n",
    "\n",
    "# Count empty messages (if any)\n",
    "invalid = df['message'].apply(lambda x: len(str(x).strip()) == 0).sum()\n",
    "\n",
    "# Valid responses\n",
    "valid = total - invalid\n",
    "\n",
    "print(f\"Total Responses: {total}\")\n",
    "print(f\"Valid Responses: {valid}\")\n",
    "print(f\"Invalid Responses: {invalid}\")\n"
   ]
  },
  {
   "cell_type": "code",
   "execution_count": 23,
   "id": "d1b2e214-bcd5-458a-970c-9c4e5eddeab8",
   "metadata": {},
   "outputs": [
    {
     "name": "stdout",
     "output_type": "stream",
     "text": [
      "message         ➜ object\n",
      "emotion         ➜ object\n",
      "label           ➜ int64\n",
      "message_length  ➜ int64\n"
     ]
    }
   ],
   "source": [
    "for col in df.columns:\n",
    "    print(f\"{col:15} ➜ {df[col].dtype}\")\n"
   ]
  },
  {
   "cell_type": "code",
   "execution_count": 25,
   "id": "f176fe9a-22ac-409d-9cf8-7d24058f263d",
   "metadata": {},
   "outputs": [
    {
     "name": "stdout",
     "output_type": "stream",
     "text": [
      "✅ No missing values in any column.\n"
     ]
    }
   ],
   "source": [
    "import matplotlib.pyplot as plt\n",
    "\n",
    "# Count missing values\n",
    "missing = df.isnull().sum()\n",
    "\n",
    "# Filter only columns with missing values\n",
    "missing = missing[missing > 0]\n",
    "\n",
    "if not missing.empty:\n",
    "    missing.plot(kind='bar', color='tomato')\n",
    "    plt.title(\"Missing Values per Column\")\n",
    "    plt.ylabel(\"Count\")\n",
    "    plt.xlabel(\"Column Name\")\n",
    "    plt.xticks(rotation=45)\n",
    "    plt.grid(True, axis='y')\n",
    "    plt.tight_layout()\n",
    "    plt.show()\n",
    "else:\n",
    "    print(\"✅ No missing values in any column.\")\n"
   ]
  },
  {
   "cell_type": "code",
   "execution_count": 26,
   "id": "6fc0277e-5465-41bb-a014-4927f50928f3",
   "metadata": {},
   "outputs": [],
   "source": [
    "from sklearn.model_selection import train_test_split\n",
    "\n",
    "X_train, X_test, y_train, y_test = train_test_split(\n",
    "    X, y, test_size=0.2, random_state=42, stratify=y\n",
    ")\n"
   ]
  },
  {
   "cell_type": "code",
   "execution_count": null,
   "id": "f8b58e18-2234-4684-8e09-6890f53abdbb",
   "metadata": {},
   "outputs": [],
   "source": []
  }
 ],
 "metadata": {
  "kernelspec": {
   "display_name": "Python [conda env:.conda-ed]",
   "language": "python",
   "name": "conda-env-.conda-ed-py"
  },
  "language_info": {
   "codemirror_mode": {
    "name": "ipython",
    "version": 3
   },
   "file_extension": ".py",
   "mimetype": "text/x-python",
   "name": "python",
   "nbconvert_exporter": "python",
   "pygments_lexer": "ipython3",
   "version": "3.13.5"
  }
 },
 "nbformat": 4,
 "nbformat_minor": 5
}
